{
 "cells": [
  {
   "cell_type": "code",
   "execution_count": 64,
   "metadata": {},
   "outputs": [],
   "source": [
    "import numpy as np\n",
    "import matplotlib.pyplot as plt\n",
    "from scipy.optimize import curve_fit\n",
    "from mpl_toolkits.mplot3d import Axes3D\n",
    "import matplotlib\n",
    "\n",
    "# 3D plot\n",
    "matplotlib.use('TkAgg')"
   ]
  },
  {
   "cell_type": "code",
   "execution_count": 65,
   "metadata": {},
   "outputs": [
    {
     "data": {
      "text/plain": [
       "169"
      ]
     },
     "execution_count": 65,
     "metadata": {},
     "output_type": "execute_result"
    }
   ],
   "source": [
    "data_path = '/Users/aboba/Desktop/isp/prodolnoe.dat'\n",
    "data_0 = np.loadtxt(data_path, usecols=(0, 1, 2))\n",
    "\n",
    "# Используем список для временного хранения данных\n",
    "temp_data = []\n",
    "\n",
    "for i in range(len(data_0)):\n",
    "    if  (data_0[i][0] < 4.01 and data_0[i][1]<9.01 and data_0[i][1]>2.99):\n",
    "        temp_data.append(data_0[i, :])\n",
    "\n",
    "# Преобразуем список обратно в двумерный массив NumPy\n",
    "data = np.array(temp_data)\n",
    "len(data_0)\n",
    "\n"
   ]
  },
  {
   "cell_type": "code",
   "execution_count": 66,
   "metadata": {},
   "outputs": [],
   "source": [
    "# Теперь вы можете без проблем извлечь x_data, y_data, z_data\n",
    "x_data, y_data, z_data = data[:, 0], data[:, 1], data[:, 2]"
   ]
  },
  {
   "cell_type": "code",
   "execution_count": 67,
   "metadata": {},
   "outputs": [],
   "source": [
    "def f0(x, y): return 1\n",
    "def f1(x, y): return 2\n",
    "def f2(x, y): return -0.5 * y**2 + x**2\n",
    "def f3(x, y): return -1.5 * x * y**2 + x**3\n",
    "def f4(x, y): return 3/8 * y**4 - 3 * y**2 * x**2 + x**4\n",
    "def f5(x, y): return 15/8 * x * y**4 - 5 * x**3 * y**2 + x**5\n",
    "def f6(x, y): return -5/16 * y**6 + 45/8 * y**4 * x**2 - 15/2 * y**2 * x**4 + x**6\n",
    "def f8(x, y): return 2688/983 * y**8 - 35/4 * y**6 * x**2 + 105/4 * y**4 * x**4 - 14 * y**2 * x**6 + x**8"
   ]
  },
  {
   "cell_type": "code",
   "execution_count": 68,
   "metadata": {},
   "outputs": [],
   "source": [
    "\n",
    "# Функция создания модели\n",
    "def create_F2_model(functions):\n",
    "    def model(xy, *coefficients):\n",
    "        x, y = xy\n",
    "        result = 0\n",
    "        for j in range(len(functions)):\n",
    "            f= functions[j]\n",
    "            a=coefficients[j+1]\n",
    "            x_0=coefficients[0]\n",
    "            result += a * f(x-x_0, y)\n",
    "        return result\n",
    "    return model"
   ]
  },
  {
   "cell_type": "code",
   "execution_count": 69,
   "metadata": {},
   "outputs": [],
   "source": [
    "# Выбор функций и начальных предположений для коэффициентов\n",
    "functions = [f0,f2,f4,f6] #,f2,f4,f6\n",
    "initial_guess = [5.610127840755141,0.4693376979985073,0.000511978215983974,1.3192344058785883e-05,6.973940174365194e-08]  # 0, A0, A2, A3 ,0,0,0\n"
   ]
  },
  {
   "cell_type": "code",
   "execution_count": 70,
   "metadata": {},
   "outputs": [
    {
     "name": "stdout",
     "output_type": "stream",
     "text": [
      "A0 = 0.1262869355932143 ± 0.08372623967501705 (66.30%)\n",
      "A2 = 0.4670081174808693 ± 0.0004781295123879764 (0.10%)\n",
      "A3 = 0.0006179718940836121 ± 5.1631407993127226e-05 (8.35%)\n",
      "A4 = 1.9477336317875137e-05 ± 1.2977222240813552e-06 (6.66%)\n",
      "A5 = 1.3982894824268587e-07 ± 1.0250218596620204e-08 (7.33%)\n"
     ]
    }
   ],
   "source": [
    "# Создание модели F2\n",
    "F2_model = create_F2_model(functions)\n",
    "\n",
    "# Выполнение подгонки\n",
    "popt, pcov = curve_fit(F2_model, (x_data, y_data), z_data, p0=initial_guess, maxfev=50000)\n",
    "\n",
    "# Результаты подгонки и их стандартные отклонения\n",
    "coefficients_fit = popt\n",
    "errors = np.sqrt(np.diag(pcov))\n",
    "\n",
    "# Форматированный вывод результатов подгонки и их отклонений в процентах\n",
    "for i, (coef, error) in enumerate(zip(coefficients_fit, errors)):\n",
    "      if i<1:\n",
    "        percent_error = (error / coef * 100) if coef != 0 else float('inf')\n",
    "        print(f\"A{i} = {coef} ± {error} ({percent_error:.2f}%)\")\n",
    "      else:   \n",
    "        percent_error = (error / coef * 100) if coef != 0 else float('inf')\n",
    "        \n",
    "        print(f\"A{i+1} = {coef} ± {error} ({percent_error:.2f}%)\")"
   ]
  },
  {
   "cell_type": "code",
   "execution_count": 71,
   "metadata": {},
   "outputs": [
    {
     "name": "stdout",
     "output_type": "stream",
     "text": [
      "[1.26286936e-01 4.67008117e-01 8.17267830e-04 3.40659830e-05\n",
      " 3.23432854e-07 0.00000000e+00]\n"
     ]
    },
    {
     "data": {
      "text/plain": [
       "0.4678597747266022"
      ]
     },
     "execution_count": 71,
     "metadata": {},
     "output_type": "execute_result"
    }
   ],
   "source": [
    "mass=np.array([0.0,0.0,0.0,0.0,0.0,0.0])\n",
    "x=1.15\n",
    "y=0.0\n",
    "for i, (coef, error) in enumerate(zip(coefficients_fit, errors)):\n",
    "        percent_error = (error / coef * 100) if coef != 0 else float('inf')\n",
    "        mass[i]=coef\n",
    "for i in range(len(mass)):\n",
    "        if i==1:\n",
    "                mass[i]=mass[i]*f0(x,y)\n",
    "        if i==2:\n",
    "                mass[i]=mass[i]*f2(x,y)\n",
    "        if i==3:\n",
    "                mass[i]=mass[i]*f4(x,y)     \n",
    "        if i==4:\n",
    "                mass[i]=mass[i]*f6(x,y)\n",
    "print(mass)   \n",
    "np.sum(mass)-mass[0]"
   ]
  },
  {
   "cell_type": "code",
   "execution_count": 72,
   "metadata": {},
   "outputs": [],
   "source": [
    "# Визуализация результатов\n",
    "fig = plt.figure()\n",
    "ax = fig.add_subplot(111, projection='3d')\n",
    "#ax.set_xlim([-15, 15])  # Границы по оси X\n",
    "#ax.set_ylim([-15, 15])  # Границы по оси Y\n",
    "#ax.set_zlim([0, 1])  # Границы по оси Z\n",
    "\n",
    "# Точки данных\n",
    "ax.scatter(x_data, y_data, z_data, color='b', label='Исходные данные')\n",
    "\n",
    "# Подогнанная поверхность\n",
    "x_range = np.linspace(min(x_data), max(x_data), 30)\n",
    "y_range = np.linspace(min(y_data), max(y_data), 30)\n",
    "x_grid, y_grid = np.meshgrid(x_range, y_range)\n",
    "z_fit = F2_model((x_grid, y_grid), *coefficients_fit)\n",
    "\n",
    "ax.plot_surface(x_grid, y_grid, z_fit, color='r', alpha=0.5, label='Подогнанная модель')\n",
    "\n",
    "ax.set_xlabel('X')\n",
    "ax.set_ylabel('Y')\n",
    "ax.set_zlabel('Z')\n",
    "\n",
    "\n",
    "plt.show()\n"
   ]
  }
 ],
 "metadata": {
  "kernelspec": {
   "display_name": ".venv",
   "language": "python",
   "name": "python3"
  },
  "language_info": {
   "codemirror_mode": {
    "name": "ipython",
    "version": 3
   },
   "file_extension": ".py",
   "mimetype": "text/x-python",
   "name": "python",
   "nbconvert_exporter": "python",
   "pygments_lexer": "ipython3",
   "version": "3.12.2"
  },
  "orig_nbformat": 4
 },
 "nbformat": 4,
 "nbformat_minor": 2
}
