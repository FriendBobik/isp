{
 "cells": [
  {
   "cell_type": "code",
   "execution_count": 37,
   "metadata": {},
   "outputs": [],
   "source": [
    "import numpy as np\n",
    "import matplotlib.pyplot as plt\n",
    "from scipy.optimize import curve_fit\n",
    "from mpl_toolkits.mplot3d import Axes3D\n",
    "import matplotlib\n",
    "\n",
    "# 3D plot\n",
    "matplotlib.use('TkAgg')"
   ]
  },
  {
   "cell_type": "code",
   "execution_count": 38,
   "metadata": {},
   "outputs": [
    {
     "data": {
      "text/plain": [
       "72"
      ]
     },
     "execution_count": 38,
     "metadata": {},
     "output_type": "execute_result"
    }
   ],
   "source": [
    "data_path = '/Users/aboba/Desktop/isp/B_r.dat'\n",
    "data_0 = np.loadtxt(data_path, usecols=(0, 1, 2))\n",
    "\n",
    "# Используем список для временного хранения данных\n",
    "temp_data = []\n",
    "\n",
    "for i in range(len(data_0)):\n",
    "    if  (data_0[i][0] > 0 ):\n",
    "        temp_data.append(data_0[i, :])\n",
    "\n",
    "# Преобразуем список обратно в двумерный массив NumPy\n",
    "data = np.array(temp_data)\n",
    "len(data_0)\n",
    "\n"
   ]
  },
  {
   "cell_type": "code",
   "execution_count": 39,
   "metadata": {},
   "outputs": [],
   "source": [
    "# Теперь вы можете без проблем извлечь x_data, y_data, z_data\n",
    "x_data, y_data, z_data = data[:, 0], data[:, 1], data[:, 2]"
   ]
  },
  {
   "cell_type": "code",
   "execution_count": 40,
   "metadata": {},
   "outputs": [],
   "source": [
    "def f0(x, y): return 1\n",
    "def f1(x, y): return 2\n",
    "def f2(x, y): return -0.5 * y**2 + x**2\n",
    "def f3(x, y): return -1.5 * x * y**2 + x**3\n",
    "def f4(x, y): return 3/8 * y**4 - 3 * y**2 * x**2 + x**4\n",
    "def f5(x, y): return 15/8 * x * y**4 - 5 * x**3 * y**2 + x**5\n",
    "def f6(x, y): return -5/16 * y**6 + 45/8 * y**4 * x**2 - 15/2 * y**2 * x**4 + x**6\n",
    "def f8(x, y): return 2688/983 * y**8 - 35/4 * y**6 * x**2 + 105/4 * y**4 * x**4 - 14 * y**2 * x**6 + x**8"
   ]
  },
  {
   "cell_type": "code",
   "execution_count": 41,
   "metadata": {},
   "outputs": [],
   "source": [
    "\n",
    "# Функция создания модели\n",
    "def create_F2_model(functions):\n",
    "    def model(xy, *coefficients):\n",
    "        x, y = xy\n",
    "        result = 0\n",
    "        for j in range(len(functions)):\n",
    "            f= functions[j]\n",
    "            a=coefficients[j+1]\n",
    "            x_0=coefficients[0]\n",
    "            result += a * f(x-x_0, y)\n",
    "        return result\n",
    "    return model"
   ]
  },
  {
   "cell_type": "code",
   "execution_count": 42,
   "metadata": {},
   "outputs": [],
   "source": [
    "# Выбор функций и начальных предположений для коэффициентов\n",
    "functions = [f0,f2,f4,f6,f8] #,f2,f4,f6\n",
    "initial_guess = [4.321709729499605,0.4665555022889368,0.0005024081505509558,0,0,0]  # 0, A0, A2, A3 ,0,0,0\n"
   ]
  },
  {
   "cell_type": "code",
   "execution_count": 43,
   "metadata": {},
   "outputs": [
    {
     "name": "stdout",
     "output_type": "stream",
     "text": [
      "A0 = 7.338572615070551 ± 0.13628013962215377 (1.86%)\n",
      "A2 = 0.00792223057350305 ± 0.0011809145321450315 (14.91%)\n",
      "A3 = 0.0010085475744786964 ± 5.0542612866972224e-05 (5.01%)\n",
      "A4 = -1.83391819693839e-05 ± 1.168675358365232e-06 (-6.37%)\n",
      "A5 = 1.7970470333249989e-07 ± 3.0448019260154085e-08 (16.94%)\n",
      "A6 = -7.590209688369808e-10 ± 1.52259033336645e-10 (-20.06%)\n"
     ]
    }
   ],
   "source": [
    "# Создание модели F2\n",
    "F2_model = create_F2_model(functions)\n",
    "\n",
    "# Выполнение подгонки\n",
    "popt, pcov = curve_fit(F2_model, (x_data, y_data), z_data, p0=initial_guess, maxfev=50000)\n",
    "\n",
    "# Результаты подгонки и их стандартные отклонения\n",
    "coefficients_fit = popt\n",
    "errors = np.sqrt(np.diag(pcov))\n",
    "\n",
    "# Форматированный вывод результатов подгонки и их отклонений в процентах\n",
    "for i, (coef, error) in enumerate(zip(coefficients_fit, errors)):\n",
    "      if i<1:\n",
    "        percent_error = (error / coef * 100) if coef != 0 else float('inf')\n",
    "        print(f\"A{i} = {coef} ± {error} ({percent_error:.2f}%)\")\n",
    "      else:   \n",
    "        percent_error = (error / coef * 100) if coef != 0 else float('inf')\n",
    "        \n",
    "        print(f\"A{i+1} = {coef} ± {error} ({percent_error:.2f}%)\")"
   ]
  },
  {
   "cell_type": "code",
   "execution_count": 44,
   "metadata": {},
   "outputs": [
    {
     "name": "stdout",
     "output_type": "stream",
     "text": [
      "[ 7.33857262e+00  7.92223057e-03  1.33380417e-03 -3.20753439e-05\n",
      "  4.15667899e-07 -7.59020969e-10]\n"
     ]
    },
    {
     "data": {
      "text/plain": [
       "0.009224374305744298"
      ]
     },
     "execution_count": 44,
     "metadata": {},
     "output_type": "execute_result"
    }
   ],
   "source": [
    "mass=np.array([0.0,0.0,0.0,0.0,0.0,0.0])\n",
    "x=1.15\n",
    "y=0.0\n",
    "for i, (coef, error) in enumerate(zip(coefficients_fit, errors)):\n",
    "        percent_error = (error / coef * 100) if coef != 0 else float('inf')\n",
    "        mass[i]=coef\n",
    "for i in range(len(mass)):\n",
    "        if i==1:\n",
    "                mass[i]=mass[i]*f0(x,y)\n",
    "        if i==2:\n",
    "                mass[i]=mass[i]*f2(x,y)\n",
    "        if i==3:\n",
    "                mass[i]=mass[i]*f4(x,y)     \n",
    "        if i==4:\n",
    "                mass[i]=mass[i]*f6(x,y)\n",
    "print(mass)   \n",
    "np.sum(mass)-mass[0]"
   ]
  },
  {
   "cell_type": "code",
   "execution_count": 45,
   "metadata": {},
   "outputs": [
    {
     "ename": "",
     "evalue": "",
     "output_type": "error",
     "traceback": [
      "\u001b[1;31mПри выполнении кода в текущей ячейке или предыдущей ячейке ядро аварийно завершило работу. \n",
      "\u001b[1;31mПроверьте код в ячейках, чтобы определить возможную причину сбоя. \n",
      "\u001b[1;31mЩелкните <a href='https://aka.ms/vscodeJupyterKernelCrash'>здесь</a>, чтобы получить дополнительные сведения. \n",
      "\u001b[1;31mПодробнее см. в <a href='command:jupyter.viewOutput'>журнале Jupyter</a>."
     ]
    }
   ],
   "source": [
    "# Визуализация результатов\n",
    "fig = plt.figure()\n",
    "ax = fig.add_subplot(111, projection='3d')\n",
    "\n",
    "# Точки данных\n",
    "ax.scatter(x_data, y_data, z_data, color='b', label='Исходные данные')\n",
    "\n",
    "# Подогнанная поверхность\n",
    "x_range = np.linspace(min(x_data), max(x_data), 30)\n",
    "y_range = np.linspace(min(y_data), max(y_data), 30)\n",
    "x_grid, y_grid = np.meshgrid(x_range, y_range)\n",
    "z_fit = F2_model((x_grid, y_grid), *coefficients_fit)\n",
    "\n",
    "ax.plot_surface(x_grid, y_grid, z_fit, color='r', alpha=0.5, label='Подогнанная модель')\n",
    "\n",
    "ax.set_xlabel('X')\n",
    "ax.set_ylabel('Y')\n",
    "ax.set_zlabel('Z')\n",
    "\n",
    "\n",
    "plt.show()\n"
   ]
  }
 ],
 "metadata": {
  "kernelspec": {
   "display_name": ".venv",
   "language": "python",
   "name": "python3"
  },
  "language_info": {
   "codemirror_mode": {
    "name": "ipython",
    "version": 3
   },
   "file_extension": ".py",
   "mimetype": "text/x-python",
   "name": "python",
   "nbconvert_exporter": "python",
   "pygments_lexer": "ipython3",
   "version": "3.12.2"
  },
  "orig_nbformat": 4
 },
 "nbformat": 4,
 "nbformat_minor": 2
}
