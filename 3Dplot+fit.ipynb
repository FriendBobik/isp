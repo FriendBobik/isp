{
 "cells": [
  {
   "cell_type": "code",
   "execution_count": 164,
   "metadata": {},
   "outputs": [],
   "source": [
    "import numpy as np\n",
    "import matplotlib.pyplot as plt\n",
    "from scipy.optimize import curve_fit\n",
    "from mpl_toolkits.mplot3d import Axes3D\n",
    "import matplotlib\n",
    "matplotlib.use('TkAgg')"
   ]
  },
  {
   "cell_type": "code",
   "execution_count": 165,
   "metadata": {},
   "outputs": [],
   "source": [
    "data_path = '/Users/aboba/Downloads/B_l.dat'\n",
    "data = np.loadtxt(data_path, usecols=(0, 1, 2))"
   ]
  },
  {
   "cell_type": "code",
   "execution_count": 166,
   "metadata": {},
   "outputs": [],
   "source": [
    "x_data, y_data, z_data = data[:, 0], data[:, 1], data[:, 2]\n"
   ]
  },
  {
   "cell_type": "code",
   "execution_count": 167,
   "metadata": {},
   "outputs": [],
   "source": [
    "def f0(x, y): return 1\n",
    "def f1(x, y): return 2\n",
    "def f2(x, y): return -0.5 * y**2 + x**2\n",
    "def f3(x, y): return -1.5 * x * y**2 + x**3\n",
    "def f4(x, y): return 3/8 * y**4 - 3 * y**2 * x**2 + x**4\n",
    "def f5(x, y): return 15/8 * x * y**4 - 5 * x**3 * y**2 + x**5"
   ]
  },
  {
   "cell_type": "code",
   "execution_count": 168,
   "metadata": {},
   "outputs": [],
   "source": [
    "# Функция создания модели\n",
    "def create_F2_model(functions):\n",
    "    def model(xy, *coefficients):\n",
    "        x, y = xy\n",
    "        result = 0\n",
    "        for f, a in zip(functions, coefficients):\n",
    "            result += a * f(x, y)\n",
    "        return result\n",
    "    return model"
   ]
  },
  {
   "cell_type": "code",
   "execution_count": 169,
   "metadata": {},
   "outputs": [],
   "source": [
    "# Выбор функций и начальных предположений для коэффициентов\n",
    "functions = [f0,f2,f3,f4]\n",
    "initial_guess = [1,1,1,1]  # 0, A0, A2, A3\n"
   ]
  },
  {
   "cell_type": "code",
   "execution_count": 170,
   "metadata": {},
   "outputs": [
    {
     "name": "stdout",
     "output_type": "stream",
     "text": [
      "A0 = 0.3752032615249104 ± 0.0005299122903364798 (0.14%)\n",
      "A2 = -0.0012496927231682685 ± 4.2440539109202796e-05 (-3.40%)\n",
      "A3 = 0.00026520125556468043 ± 7.980598880556098e-06 (3.01%)\n",
      "A4 = -1.4801210960627932e-05 ± 4.966905996713293e-07 (-3.36%)\n"
     ]
    }
   ],
   "source": [
    "# Создание модели F2\n",
    "F2_model = create_F2_model(functions)\n",
    "\n",
    "# Выполнение подгонки\n",
    "popt, pcov = curve_fit(F2_model, (x_data, y_data), z_data, p0=initial_guess, maxfev=50000)\n",
    "\n",
    "# Результаты подгонки и их стандартные отклонения\n",
    "coefficients_fit = popt\n",
    "errors = np.sqrt(np.diag(pcov))\n",
    "\n",
    "# Форматированный вывод результатов подгонки и их отклонений в процентах\n",
    "for i, (coef, error) in enumerate(zip(coefficients_fit, errors)):\n",
    "      if i<1:\n",
    "        percent_error = (error / coef * 100) if coef != 0 else float('inf')\n",
    "        print(f\"A{i} = {coef} ± {error} ({percent_error:.2f}%)\")\n",
    "      else:   \n",
    "        percent_error = (error / coef * 100) if coef != 0 else float('inf')\n",
    "        print(f\"A{i+1} = {coef} ± {error} ({percent_error:.2f}%)\")"
   ]
  },
  {
   "cell_type": "code",
   "execution_count": 171,
   "metadata": {},
   "outputs": [],
   "source": [
    "# Визуализация результатов\n",
    "fig = plt.figure()\n",
    "ax = fig.add_subplot(111, projection='3d')\n",
    "\n",
    "# Точки данных\n",
    "ax.scatter(x_data, y_data, z_data, color='b', label='Исходные данные')\n",
    "\n",
    "# Подогнанная поверхность\n",
    "x_range = np.linspace(min(x_data), max(x_data), 30)\n",
    "y_range = np.linspace(min(y_data), max(y_data), 30)\n",
    "x_grid, y_grid = np.meshgrid(x_range, y_range)\n",
    "z_fit = F2_model((x_grid, y_grid), *coefficients_fit)\n",
    "\n",
    "ax.plot_surface(x_grid, y_grid, z_fit, color='r', alpha=0.5, label='Подогнанная модель')\n",
    "\n",
    "ax.set_xlabel('X')\n",
    "ax.set_ylabel('Y')\n",
    "ax.set_zlabel('Z')\n",
    "\n",
    "plt.legend()\n",
    "plt.show()\n"
   ]
  }
 ],
 "metadata": {
  "kernelspec": {
   "display_name": ".venv",
   "language": "python",
   "name": "python3"
  },
  "language_info": {
   "codemirror_mode": {
    "name": "ipython",
    "version": 3
   },
   "file_extension": ".py",
   "mimetype": "text/x-python",
   "name": "python",
   "nbconvert_exporter": "python",
   "pygments_lexer": "ipython3",
   "version": "3.11.4"
  },
  "orig_nbformat": 4
 },
 "nbformat": 4,
 "nbformat_minor": 2
}
